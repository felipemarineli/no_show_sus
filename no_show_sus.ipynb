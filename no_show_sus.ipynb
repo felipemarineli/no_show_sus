{
 "cells": [
  {
   "cell_type": "markdown",
   "metadata": {},
   "source": [
    "# Project: No-Show in the Brazilian Public Health System\n",
    "\n",
    "## Table of Contents\n",
    "<ul>\n",
    "<li><a href=\"#intro\">Introduction</a></li>\n",
    "<li><a href=\"#wrangling\">Data Wrangling</a></li>\n",
    "<li><a href=\"#eda\">Exploratory Data Analysis</a></li>\n",
    "<li><a href=\"#conclusions\">Conclusions</a></li>\n",
    "</ul>"
   ]
  },
  {
   "cell_type": "markdown",
   "metadata": {},
   "source": [
    "<a id='intro'></a>\n",
    "## Introduction\n",
    "\n",
    "The dataset in this analysis contains more than one-hundred thousand entries regarding no-show in the Brazilian public health system (Sistema Único de Saúde - SUS) between April 29 2016 and June 8 2016. Each entry has a unique appointment ID along with information about the patient. The information available is the following: a patient ID; sex; day and time of scheduling; day of the appointment; age; neighbourhood of the medical center; whether the patient receives money from Bolsa Família, a social welfare program of the Government of Brazil; whether the patient has hypertension, diabetes, alcoholism, or handicaps; whether an SMS was received reminding the patient of the appointment; and whether this event was a no-show.\n",
    "\n",
    "The aim is to investigate tendencies, associations and correlations between some of these variables and no-show. Furthermore, analyze how the variables affect each other. \n",
    "\n",
    "Apart from age and sex, the first possibly relevant variable that comes to mind is the participation in Bolsa Família. Participants in this welfare program are demanded to comply with a set of rules designed, among other things, to 1) keep the children of families in poverty and extremy poverty in school rather than working; 2) and keep them properly immunized in order to avoid latent diseases in poor areas. Do these children miss less appointments than the remaining patients?\n",
    "\n",
    "Other possible associations between various health conditions and no-show could shed some light on whether certain subsets of patients could profit from specific policies aimed at decreasing no-show."
   ]
  },
  {
   "cell_type": "code",
   "execution_count": 1,
   "metadata": {},
   "outputs": [],
   "source": [
    "import pandas as pd\n",
    "import matplotlib.pyplot as plt\n",
    "import matplotlib.style as style\n",
    "import matplotlib\n",
    "import numpy as np\n",
    "import seaborn as sns\n",
    "%matplotlib inline\n",
    "\n",
    "style.use('seaborn-notebook')\n",
    "style.use('ggplot')"
   ]
  },
  {
   "cell_type": "markdown",
   "metadata": {},
   "source": [
    "<a id='wrangling'></a>\n",
    "## Data Wrangling\n",
    "\n",
    "### General Properties"
   ]
  },
  {
   "cell_type": "code",
   "execution_count": 2,
   "metadata": {},
   "outputs": [
    {
     "data": {
      "text/plain": [
       "Index(['PatientId', 'AppointmentID', 'Gender', 'ScheduledDay',\n",
       "       'AppointmentDay', 'Age', 'Neighbourhood', 'Scholarship', 'Hipertension',\n",
       "       'Diabetes', 'Alcoholism', 'Handcap', 'SMS_received', 'No-show'],\n",
       "      dtype='object')"
      ]
     },
     "execution_count": 2,
     "metadata": {},
     "output_type": "execute_result"
    }
   ],
   "source": [
    "df = pd.read_csv('noshowappointments-kagglev2-may-2016.csv')\n",
    "df.columns"
   ]
  },
  {
   "cell_type": "code",
   "execution_count": 3,
   "metadata": {},
   "outputs": [
    {
     "data": {
      "text/plain": [
       "(110527, 14)"
      ]
     },
     "execution_count": 3,
     "metadata": {},
     "output_type": "execute_result"
    }
   ],
   "source": [
    "df.shape"
   ]
  },
  {
   "cell_type": "code",
   "execution_count": 4,
   "metadata": {},
   "outputs": [
    {
     "data": {
      "text/html": [
       "<div>\n",
       "<style scoped>\n",
       "    .dataframe tbody tr th:only-of-type {\n",
       "        vertical-align: middle;\n",
       "    }\n",
       "\n",
       "    .dataframe tbody tr th {\n",
       "        vertical-align: top;\n",
       "    }\n",
       "\n",
       "    .dataframe thead th {\n",
       "        text-align: right;\n",
       "    }\n",
       "</style>\n",
       "<table border=\"1\" class=\"dataframe\">\n",
       "  <thead>\n",
       "    <tr style=\"text-align: right;\">\n",
       "      <th></th>\n",
       "      <th>PatientId</th>\n",
       "      <th>AppointmentID</th>\n",
       "      <th>Gender</th>\n",
       "      <th>ScheduledDay</th>\n",
       "      <th>AppointmentDay</th>\n",
       "      <th>Age</th>\n",
       "      <th>Neighbourhood</th>\n",
       "      <th>Scholarship</th>\n",
       "      <th>Hipertension</th>\n",
       "      <th>Diabetes</th>\n",
       "      <th>Alcoholism</th>\n",
       "      <th>Handcap</th>\n",
       "      <th>SMS_received</th>\n",
       "      <th>No-show</th>\n",
       "    </tr>\n",
       "  </thead>\n",
       "  <tbody>\n",
       "    <tr>\n",
       "      <td>0</td>\n",
       "      <td>2.987250e+13</td>\n",
       "      <td>5642903</td>\n",
       "      <td>F</td>\n",
       "      <td>2016-04-29T18:38:08Z</td>\n",
       "      <td>2016-04-29T00:00:00Z</td>\n",
       "      <td>62</td>\n",
       "      <td>JARDIM DA PENHA</td>\n",
       "      <td>0</td>\n",
       "      <td>1</td>\n",
       "      <td>0</td>\n",
       "      <td>0</td>\n",
       "      <td>0</td>\n",
       "      <td>0</td>\n",
       "      <td>No</td>\n",
       "    </tr>\n",
       "    <tr>\n",
       "      <td>1</td>\n",
       "      <td>5.589978e+14</td>\n",
       "      <td>5642503</td>\n",
       "      <td>M</td>\n",
       "      <td>2016-04-29T16:08:27Z</td>\n",
       "      <td>2016-04-29T00:00:00Z</td>\n",
       "      <td>56</td>\n",
       "      <td>JARDIM DA PENHA</td>\n",
       "      <td>0</td>\n",
       "      <td>0</td>\n",
       "      <td>0</td>\n",
       "      <td>0</td>\n",
       "      <td>0</td>\n",
       "      <td>0</td>\n",
       "      <td>No</td>\n",
       "    </tr>\n",
       "    <tr>\n",
       "      <td>2</td>\n",
       "      <td>4.262962e+12</td>\n",
       "      <td>5642549</td>\n",
       "      <td>F</td>\n",
       "      <td>2016-04-29T16:19:04Z</td>\n",
       "      <td>2016-04-29T00:00:00Z</td>\n",
       "      <td>62</td>\n",
       "      <td>MATA DA PRAIA</td>\n",
       "      <td>0</td>\n",
       "      <td>0</td>\n",
       "      <td>0</td>\n",
       "      <td>0</td>\n",
       "      <td>0</td>\n",
       "      <td>0</td>\n",
       "      <td>No</td>\n",
       "    </tr>\n",
       "  </tbody>\n",
       "</table>\n",
       "</div>"
      ],
      "text/plain": [
       "      PatientId  AppointmentID Gender          ScheduledDay  \\\n",
       "0  2.987250e+13        5642903      F  2016-04-29T18:38:08Z   \n",
       "1  5.589978e+14        5642503      M  2016-04-29T16:08:27Z   \n",
       "2  4.262962e+12        5642549      F  2016-04-29T16:19:04Z   \n",
       "\n",
       "         AppointmentDay  Age    Neighbourhood  Scholarship  Hipertension  \\\n",
       "0  2016-04-29T00:00:00Z   62  JARDIM DA PENHA            0             1   \n",
       "1  2016-04-29T00:00:00Z   56  JARDIM DA PENHA            0             0   \n",
       "2  2016-04-29T00:00:00Z   62    MATA DA PRAIA            0             0   \n",
       "\n",
       "   Diabetes  Alcoholism  Handcap  SMS_received No-show  \n",
       "0         0           0        0             0      No  \n",
       "1         0           0        0             0      No  \n",
       "2         0           0        0             0      No  "
      ]
     },
     "execution_count": 4,
     "metadata": {},
     "output_type": "execute_result"
    }
   ],
   "source": [
    "df.head(3)"
   ]
  },
  {
   "cell_type": "markdown",
   "metadata": {},
   "source": [
    "### Data Cleaning"
   ]
  },
  {
   "cell_type": "code",
   "execution_count": 5,
   "metadata": {
    "scrolled": true
   },
   "outputs": [
    {
     "data": {
      "text/html": [
       "<div>\n",
       "<style scoped>\n",
       "    .dataframe tbody tr th:only-of-type {\n",
       "        vertical-align: middle;\n",
       "    }\n",
       "\n",
       "    .dataframe tbody tr th {\n",
       "        vertical-align: top;\n",
       "    }\n",
       "\n",
       "    .dataframe thead th {\n",
       "        text-align: right;\n",
       "    }\n",
       "</style>\n",
       "<table border=\"1\" class=\"dataframe\">\n",
       "  <thead>\n",
       "    <tr style=\"text-align: right;\">\n",
       "      <th></th>\n",
       "      <th>patient_id</th>\n",
       "      <th>appointmentid</th>\n",
       "      <th>sex</th>\n",
       "      <th>scheduled_day</th>\n",
       "      <th>appointment_day</th>\n",
       "      <th>age</th>\n",
       "      <th>neighbourhood</th>\n",
       "      <th>scholarship</th>\n",
       "      <th>hypertension</th>\n",
       "      <th>diabetes</th>\n",
       "      <th>alcoholism</th>\n",
       "      <th>handicap</th>\n",
       "      <th>sms_received</th>\n",
       "      <th>no_show</th>\n",
       "    </tr>\n",
       "  </thead>\n",
       "  <tbody>\n",
       "    <tr>\n",
       "      <td>0</td>\n",
       "      <td>2.987250e+13</td>\n",
       "      <td>5642903</td>\n",
       "      <td>F</td>\n",
       "      <td>2016-04-29T18:38:08Z</td>\n",
       "      <td>2016-04-29T00:00:00Z</td>\n",
       "      <td>62</td>\n",
       "      <td>JARDIM DA PENHA</td>\n",
       "      <td>0</td>\n",
       "      <td>1</td>\n",
       "      <td>0</td>\n",
       "      <td>0</td>\n",
       "      <td>0</td>\n",
       "      <td>0</td>\n",
       "      <td>No</td>\n",
       "    </tr>\n",
       "  </tbody>\n",
       "</table>\n",
       "</div>"
      ],
      "text/plain": [
       "     patient_id  appointmentid sex         scheduled_day  \\\n",
       "0  2.987250e+13        5642903   F  2016-04-29T18:38:08Z   \n",
       "\n",
       "        appointment_day  age    neighbourhood  scholarship  hypertension  \\\n",
       "0  2016-04-29T00:00:00Z   62  JARDIM DA PENHA            0             1   \n",
       "\n",
       "   diabetes  alcoholism  handicap  sms_received no_show  \n",
       "0         0           0         0             0      No  "
      ]
     },
     "execution_count": 5,
     "metadata": {},
     "output_type": "execute_result"
    }
   ],
   "source": [
    "# Normalizing the column names, correcting typos in 'handicap' and 'hypertension', \n",
    "# and renaming 'gender' as 'sex' in order to better comply with the current debate around the issue. \n",
    "# See: [https://www.who.int/gender-equity-rights/knowledge/glossary/en/]\n",
    "\n",
    "df.columns = [x.strip().lower().replace('-', '_') for x in df.columns]\n",
    "df.rename({'patientid':'patient_id', 'scheduledday':'scheduled_day', 'appointmentday':'appointment_day',\n",
    "           'hipertension':'hypertension', 'handcap':'handicap', \n",
    "           'gender':'sex'}, axis='columns', inplace=True)\n",
    "df.head(1)"
   ]
  },
  {
   "cell_type": "code",
   "execution_count": 6,
   "metadata": {},
   "outputs": [
    {
     "data": {
      "text/plain": [
       "patient_id         0\n",
       "appointmentid      0\n",
       "sex                0\n",
       "scheduled_day      0\n",
       "appointment_day    0\n",
       "age                0\n",
       "neighbourhood      0\n",
       "scholarship        0\n",
       "hypertension       0\n",
       "diabetes           0\n",
       "alcoholism         0\n",
       "handicap           0\n",
       "sms_received       0\n",
       "no_show            0\n",
       "dtype: int64"
      ]
     },
     "execution_count": 6,
     "metadata": {},
     "output_type": "execute_result"
    }
   ],
   "source": [
    "# Checking for NA values.\n",
    "\n",
    "df.isna().sum()"
   ]
  },
  {
   "cell_type": "code",
   "execution_count": 7,
   "metadata": {
    "scrolled": true
   },
   "outputs": [
    {
     "data": {
      "text/plain": [
       "0"
      ]
     },
     "execution_count": 7,
     "metadata": {},
     "output_type": "execute_result"
    }
   ],
   "source": [
    "# Checking for duplicates.\n",
    "\n",
    "df['appointmentid'].duplicated().sum()"
   ]
  },
  {
   "cell_type": "code",
   "execution_count": 8,
   "metadata": {},
   "outputs": [],
   "source": [
    "# Since 'appointmentid' is a unique identifier which is otherwise of no relevance for the analysis, the column is dropped below.\n",
    "\n",
    "df.drop(['appointmentid'], axis=1, inplace=True)"
   ]
  },
  {
   "cell_type": "code",
   "execution_count": 9,
   "metadata": {},
   "outputs": [
    {
     "data": {
      "text/plain": [
       "62299"
      ]
     },
     "execution_count": 9,
     "metadata": {},
     "output_type": "execute_result"
    }
   ],
   "source": [
    "df['patient_id'].nunique()"
   ]
  },
  {
   "cell_type": "code",
   "execution_count": 10,
   "metadata": {
    "scrolled": true
   },
   "outputs": [
    {
     "name": "stdout",
     "output_type": "stream",
     "text": [
      "New patient: \n",
      "1    62299\n",
      "0    48228\n",
      "Name: new_patient, dtype: int64\n"
     ]
    }
   ],
   "source": [
    "# 'patient_id' can be a recurring value, a factor which may be significant for the analysis.\n",
    "# A column 'new_patient' is created below with information on whether a patient is new.\n",
    "\n",
    "df['new_patient'] = df.groupby(['patient_id']).cumcount().apply(lambda x: 0 if (x > 0) else 1)\n",
    "print('New patient: \\n{}'.format(df.new_patient.value_counts()))"
   ]
  },
  {
   "cell_type": "code",
   "execution_count": 11,
   "metadata": {},
   "outputs": [],
   "source": [
    "# Converting dates into datetime objects and creating a 'weekday' column.\n",
    "\n",
    "df['scheduled_day'], df['appointment_day'] = pd.to_datetime(df['scheduled_day']), pd.to_datetime(df['appointment_day'])\n",
    "df['weekday'] = df['appointment_day'].dt.weekday"
   ]
  },
  {
   "cell_type": "code",
   "execution_count": 12,
   "metadata": {
    "scrolled": true
   },
   "outputs": [
    {
     "data": {
      "text/html": [
       "<div>\n",
       "<style scoped>\n",
       "    .dataframe tbody tr th:only-of-type {\n",
       "        vertical-align: middle;\n",
       "    }\n",
       "\n",
       "    .dataframe tbody tr th {\n",
       "        vertical-align: top;\n",
       "    }\n",
       "\n",
       "    .dataframe thead th {\n",
       "        text-align: right;\n",
       "    }\n",
       "</style>\n",
       "<table border=\"1\" class=\"dataframe\">\n",
       "  <thead>\n",
       "    <tr style=\"text-align: right;\">\n",
       "      <th></th>\n",
       "      <th>patient_id</th>\n",
       "      <th>sex</th>\n",
       "      <th>appointment_day</th>\n",
       "      <th>weekday</th>\n",
       "      <th>time_interval</th>\n",
       "      <th>age</th>\n",
       "      <th>neighbourhood</th>\n",
       "      <th>scholarship</th>\n",
       "      <th>hypertension</th>\n",
       "      <th>diabetes</th>\n",
       "      <th>alcoholism</th>\n",
       "      <th>handicap</th>\n",
       "      <th>sms_received</th>\n",
       "      <th>new_patient</th>\n",
       "      <th>no_show</th>\n",
       "    </tr>\n",
       "  </thead>\n",
       "  <tbody>\n",
       "    <tr>\n",
       "      <td>0</td>\n",
       "      <td>2.987250e+13</td>\n",
       "      <td>F</td>\n",
       "      <td>2016-04-29</td>\n",
       "      <td>4</td>\n",
       "      <td>0 days</td>\n",
       "      <td>62</td>\n",
       "      <td>JARDIM DA PENHA</td>\n",
       "      <td>0</td>\n",
       "      <td>1</td>\n",
       "      <td>0</td>\n",
       "      <td>0</td>\n",
       "      <td>0</td>\n",
       "      <td>0</td>\n",
       "      <td>1</td>\n",
       "      <td>No</td>\n",
       "    </tr>\n",
       "  </tbody>\n",
       "</table>\n",
       "</div>"
      ],
      "text/plain": [
       "     patient_id sex appointment_day  weekday time_interval  age  \\\n",
       "0  2.987250e+13   F      2016-04-29        4        0 days   62   \n",
       "\n",
       "     neighbourhood  scholarship  hypertension  diabetes  alcoholism  handicap  \\\n",
       "0  JARDIM DA PENHA            0             1         0           0         0   \n",
       "\n",
       "   sms_received  new_patient no_show  \n",
       "0             0            1      No  "
      ]
     },
     "execution_count": 12,
     "metadata": {},
     "output_type": "execute_result"
    }
   ],
   "source": [
    "# Dropping the time from both columns, since it is not available in 'appointment_day', \n",
    "# and calculating the time difference to 'scheduled_day' in the column 'time_interval'.\n",
    "\n",
    "df['appointment_day'], df['scheduled_day'] = df['appointment_day'].dt.date, df['scheduled_day'].dt.date\n",
    "df['time_interval'] = (df.appointment_day - df.scheduled_day)\n",
    "\n",
    "# Dropping the column 'scheduled_day' and rearranging the columns.\n",
    "\n",
    "df.drop(['scheduled_day'], axis='columns', inplace=True)\n",
    "df = df[['patient_id', 'sex', 'appointment_day', 'weekday', 'time_interval', 'age',\n",
    "       'neighbourhood', 'scholarship', 'hypertension', 'diabetes',\n",
    "       'alcoholism', 'handicap', 'sms_received', 'new_patient', 'no_show']]\n",
    "\n",
    "df.head(1)"
   ]
  },
  {
   "cell_type": "code",
   "execution_count": 13,
   "metadata": {},
   "outputs": [
    {
     "data": {
      "text/plain": [
       "0    108286\n",
       "1      2042\n",
       "2       183\n",
       "3        13\n",
       "4         3\n",
       "Name: handicap, dtype: int64"
      ]
     },
     "execution_count": 13,
     "metadata": {},
     "output_type": "execute_result"
    }
   ],
   "source": [
    "# Checking the distribution of the values in the column 'handicap'.\n",
    "\n",
    "df['handicap'].value_counts()"
   ]
  },
  {
   "cell_type": "code",
   "execution_count": 14,
   "metadata": {},
   "outputs": [
    {
     "name": "stdout",
     "output_type": "stream",
     "text": [
      "No-show: \n",
      "0    88208\n",
      "1    22319\n",
      "Name: no_show, dtype: int64\n",
      "Sex: \n",
      "0    71840\n",
      "1    38687\n",
      "Name: sex, dtype: int64\n",
      "Handicap: \n",
      "0    108286\n",
      "1      2241\n",
      "Name: handicap, dtype: int64\n"
     ]
    }
   ],
   "source": [
    "# Converting the variables below into numeric and additionally binarizing 'handicap'.\n",
    "# The convertion is necessary in order to calculate the correlations.\n",
    "\n",
    "df['no_show'] = df.no_show.apply(lambda x: 0 if (x == 'No') else 1)\n",
    "df['sex'] = df.sex.apply(lambda x: 0 if (x == 'F') else 1)\n",
    "df['handicap'] = df.handicap.apply(lambda x: 0 if (x == 0) else 1)\n",
    "\n",
    "# Health check.\n",
    "\n",
    "print('No-show: \\n{}'.format(df.no_show.value_counts()))\n",
    "print('Sex: \\n{}'.format(df.sex.value_counts()))\n",
    "print('Handicap: \\n{}'.format(df.handicap.value_counts()))"
   ]
  },
  {
   "cell_type": "code",
   "execution_count": 15,
   "metadata": {},
   "outputs": [
    {
     "data": {
      "text/html": [
       "<div>\n",
       "<style scoped>\n",
       "    .dataframe tbody tr th:only-of-type {\n",
       "        vertical-align: middle;\n",
       "    }\n",
       "\n",
       "    .dataframe tbody tr th {\n",
       "        vertical-align: top;\n",
       "    }\n",
       "\n",
       "    .dataframe thead th {\n",
       "        text-align: right;\n",
       "    }\n",
       "</style>\n",
       "<table border=\"1\" class=\"dataframe\">\n",
       "  <thead>\n",
       "    <tr style=\"text-align: right;\">\n",
       "      <th></th>\n",
       "      <th>patient_id</th>\n",
       "      <th>sex</th>\n",
       "      <th>appointment_day</th>\n",
       "      <th>weekday</th>\n",
       "      <th>time_interval</th>\n",
       "      <th>age</th>\n",
       "      <th>neighbourhood</th>\n",
       "      <th>scholarship</th>\n",
       "      <th>hypertension</th>\n",
       "      <th>diabetes</th>\n",
       "      <th>alcoholism</th>\n",
       "      <th>handicap</th>\n",
       "      <th>sms_received</th>\n",
       "      <th>new_patient</th>\n",
       "      <th>no_show</th>\n",
       "    </tr>\n",
       "  </thead>\n",
       "  <tbody>\n",
       "    <tr>\n",
       "      <td>27033</td>\n",
       "      <td>7.839273e+12</td>\n",
       "      <td>1</td>\n",
       "      <td>2016-05-09</td>\n",
       "      <td>0</td>\n",
       "      <td>-1.0</td>\n",
       "      <td>38</td>\n",
       "      <td>RESISTÊNCIA</td>\n",
       "      <td>0</td>\n",
       "      <td>0</td>\n",
       "      <td>0</td>\n",
       "      <td>0</td>\n",
       "      <td>1</td>\n",
       "      <td>0</td>\n",
       "      <td>0</td>\n",
       "      <td>1</td>\n",
       "    </tr>\n",
       "    <tr>\n",
       "      <td>55226</td>\n",
       "      <td>7.896294e+12</td>\n",
       "      <td>0</td>\n",
       "      <td>2016-05-17</td>\n",
       "      <td>1</td>\n",
       "      <td>-1.0</td>\n",
       "      <td>19</td>\n",
       "      <td>SANTO ANTÔNIO</td>\n",
       "      <td>0</td>\n",
       "      <td>0</td>\n",
       "      <td>0</td>\n",
       "      <td>0</td>\n",
       "      <td>1</td>\n",
       "      <td>0</td>\n",
       "      <td>0</td>\n",
       "      <td>1</td>\n",
       "    </tr>\n",
       "    <tr>\n",
       "      <td>64175</td>\n",
       "      <td>2.425226e+13</td>\n",
       "      <td>0</td>\n",
       "      <td>2016-05-04</td>\n",
       "      <td>2</td>\n",
       "      <td>-1.0</td>\n",
       "      <td>22</td>\n",
       "      <td>CONSOLAÇÃO</td>\n",
       "      <td>0</td>\n",
       "      <td>0</td>\n",
       "      <td>0</td>\n",
       "      <td>0</td>\n",
       "      <td>0</td>\n",
       "      <td>0</td>\n",
       "      <td>0</td>\n",
       "      <td>1</td>\n",
       "    </tr>\n",
       "    <tr>\n",
       "      <td>71533</td>\n",
       "      <td>9.982316e+14</td>\n",
       "      <td>0</td>\n",
       "      <td>2016-05-05</td>\n",
       "      <td>3</td>\n",
       "      <td>-6.0</td>\n",
       "      <td>81</td>\n",
       "      <td>SANTO ANTÔNIO</td>\n",
       "      <td>0</td>\n",
       "      <td>0</td>\n",
       "      <td>0</td>\n",
       "      <td>0</td>\n",
       "      <td>0</td>\n",
       "      <td>0</td>\n",
       "      <td>0</td>\n",
       "      <td>1</td>\n",
       "    </tr>\n",
       "    <tr>\n",
       "      <td>72362</td>\n",
       "      <td>3.787482e+12</td>\n",
       "      <td>1</td>\n",
       "      <td>2016-05-03</td>\n",
       "      <td>1</td>\n",
       "      <td>-1.0</td>\n",
       "      <td>7</td>\n",
       "      <td>TABUAZEIRO</td>\n",
       "      <td>0</td>\n",
       "      <td>0</td>\n",
       "      <td>0</td>\n",
       "      <td>0</td>\n",
       "      <td>0</td>\n",
       "      <td>0</td>\n",
       "      <td>1</td>\n",
       "      <td>1</td>\n",
       "    </tr>\n",
       "  </tbody>\n",
       "</table>\n",
       "</div>"
      ],
      "text/plain": [
       "         patient_id  sex appointment_day  weekday  time_interval  age  \\\n",
       "27033  7.839273e+12    1      2016-05-09        0           -1.0   38   \n",
       "55226  7.896294e+12    0      2016-05-17        1           -1.0   19   \n",
       "64175  2.425226e+13    0      2016-05-04        2           -1.0   22   \n",
       "71533  9.982316e+14    0      2016-05-05        3           -6.0   81   \n",
       "72362  3.787482e+12    1      2016-05-03        1           -1.0    7   \n",
       "\n",
       "       neighbourhood  scholarship  hypertension  diabetes  alcoholism  \\\n",
       "27033    RESISTÊNCIA            0             0         0           0   \n",
       "55226  SANTO ANTÔNIO            0             0         0           0   \n",
       "64175     CONSOLAÇÃO            0             0         0           0   \n",
       "71533  SANTO ANTÔNIO            0             0         0           0   \n",
       "72362     TABUAZEIRO            0             0         0           0   \n",
       "\n",
       "       handicap  sms_received  new_patient  no_show  \n",
       "27033         1             0            0        1  \n",
       "55226         1             0            0        1  \n",
       "64175         0             0            0        1  \n",
       "71533         0             0            0        1  \n",
       "72362         0             0            1        1  "
      ]
     },
     "execution_count": 15,
     "metadata": {},
     "output_type": "execute_result"
    }
   ],
   "source": [
    "# Converting 'time_interval' into numeric.\n",
    "\n",
    "df['time_interval'] = df['time_interval'] / np.timedelta64(1, 'D')\n",
    "df.query('time_interval < 0')"
   ]
  },
  {
   "cell_type": "code",
   "execution_count": 16,
   "metadata": {},
   "outputs": [],
   "source": [
    "# Dropping rows with time interval smaller than 0.\n",
    "\n",
    "df = df[df.time_interval >= 0]"
   ]
  },
  {
   "cell_type": "code",
   "execution_count": 17,
   "metadata": {},
   "outputs": [
    {
     "data": {
      "text/html": [
       "<div>\n",
       "<style scoped>\n",
       "    .dataframe tbody tr th:only-of-type {\n",
       "        vertical-align: middle;\n",
       "    }\n",
       "\n",
       "    .dataframe tbody tr th {\n",
       "        vertical-align: top;\n",
       "    }\n",
       "\n",
       "    .dataframe thead th {\n",
       "        text-align: right;\n",
       "    }\n",
       "</style>\n",
       "<table border=\"1\" class=\"dataframe\">\n",
       "  <thead>\n",
       "    <tr style=\"text-align: right;\">\n",
       "      <th></th>\n",
       "      <th>patient_id</th>\n",
       "      <th>sex</th>\n",
       "      <th>appointment_day</th>\n",
       "      <th>weekday</th>\n",
       "      <th>time_interval</th>\n",
       "      <th>age</th>\n",
       "      <th>neighbourhood</th>\n",
       "      <th>scholarship</th>\n",
       "      <th>hypertension</th>\n",
       "      <th>diabetes</th>\n",
       "      <th>alcoholism</th>\n",
       "      <th>handicap</th>\n",
       "      <th>sms_received</th>\n",
       "      <th>new_patient</th>\n",
       "      <th>no_show</th>\n",
       "    </tr>\n",
       "  </thead>\n",
       "  <tbody>\n",
       "    <tr>\n",
       "      <td>99832</td>\n",
       "      <td>4.659432e+14</td>\n",
       "      <td>0</td>\n",
       "      <td>2016-06-06</td>\n",
       "      <td>0</td>\n",
       "      <td>0.0</td>\n",
       "      <td>-1</td>\n",
       "      <td>ROMÃO</td>\n",
       "      <td>0</td>\n",
       "      <td>0</td>\n",
       "      <td>0</td>\n",
       "      <td>0</td>\n",
       "      <td>0</td>\n",
       "      <td>0</td>\n",
       "      <td>1</td>\n",
       "      <td>0</td>\n",
       "    </tr>\n",
       "  </tbody>\n",
       "</table>\n",
       "</div>"
      ],
      "text/plain": [
       "         patient_id  sex appointment_day  weekday  time_interval  age  \\\n",
       "99832  4.659432e+14    0      2016-06-06        0            0.0   -1   \n",
       "\n",
       "      neighbourhood  scholarship  hypertension  diabetes  alcoholism  \\\n",
       "99832         ROMÃO            0             0         0           0   \n",
       "\n",
       "       handicap  sms_received  new_patient  no_show  \n",
       "99832         0             0            1        0  "
      ]
     },
     "execution_count": 17,
     "metadata": {},
     "output_type": "execute_result"
    }
   ],
   "source": [
    "# Cheking the column 'age'.\n",
    "\n",
    "df.query('age < 0')"
   ]
  },
  {
   "cell_type": "code",
   "execution_count": 18,
   "metadata": {},
   "outputs": [
    {
     "data": {
      "text/plain": [
       "19761"
      ]
     },
     "execution_count": 18,
     "metadata": {},
     "output_type": "execute_result"
    }
   ],
   "source": [
    "df.query('age > 60').count()['age']"
   ]
  },
  {
   "cell_type": "code",
   "execution_count": 19,
   "metadata": {},
   "outputs": [
    {
     "data": {
      "text/plain": [
       "2851"
      ]
     },
     "execution_count": 19,
     "metadata": {},
     "output_type": "execute_result"
    }
   ],
   "source": [
    "df.query('age > 80').count()['age']"
   ]
  },
  {
   "cell_type": "code",
   "execution_count": 20,
   "metadata": {
    "scrolled": true
   },
   "outputs": [
    {
     "data": {
      "text/plain": [
       " 0      3539\n",
       " 1      2273\n",
       " 52     1746\n",
       " 49     1652\n",
       " 53     1651\n",
       "        ... \n",
       " 115       5\n",
       " 100       4\n",
       " 102       2\n",
       " 99        1\n",
       "-1         1\n",
       "Name: age, Length: 104, dtype: int64"
      ]
     },
     "execution_count": 20,
     "metadata": {},
     "output_type": "execute_result"
    }
   ],
   "source": [
    "df.age.value_counts()"
   ]
  },
  {
   "cell_type": "code",
   "execution_count": 21,
   "metadata": {
    "scrolled": false
   },
   "outputs": [],
   "source": [
    "# Dropping rows with age smaller than 0 - an impossibility - and bigger than 80.\n",
    "# The latter aims to prevent outliers from affecting analysis accuracy.\n",
    "\n",
    "df = df[df.age >= 0]\n",
    "df = df[df.age <= 80]"
   ]
  },
  {
   "cell_type": "code",
   "execution_count": 22,
   "metadata": {
    "scrolled": true
   },
   "outputs": [
    {
     "data": {
      "text/html": [
       "<div>\n",
       "<style scoped>\n",
       "    .dataframe tbody tr th:only-of-type {\n",
       "        vertical-align: middle;\n",
       "    }\n",
       "\n",
       "    .dataframe tbody tr th {\n",
       "        vertical-align: top;\n",
       "    }\n",
       "\n",
       "    .dataframe thead th {\n",
       "        text-align: right;\n",
       "    }\n",
       "</style>\n",
       "<table border=\"1\" class=\"dataframe\">\n",
       "  <thead>\n",
       "    <tr style=\"text-align: right;\">\n",
       "      <th></th>\n",
       "      <th>patient_id</th>\n",
       "      <th>sex</th>\n",
       "      <th>appointment_day</th>\n",
       "      <th>weekday</th>\n",
       "      <th>time_interval</th>\n",
       "      <th>age</th>\n",
       "      <th>neighbourhood</th>\n",
       "      <th>scholarship</th>\n",
       "      <th>hypertension</th>\n",
       "      <th>diabetes</th>\n",
       "      <th>alcoholism</th>\n",
       "      <th>handicap</th>\n",
       "      <th>sms_received</th>\n",
       "      <th>new_patient</th>\n",
       "      <th>no_show</th>\n",
       "    </tr>\n",
       "  </thead>\n",
       "  <tbody>\n",
       "    <tr>\n",
       "      <td>0</td>\n",
       "      <td>2.987250e+13</td>\n",
       "      <td>0</td>\n",
       "      <td>2016-04-29</td>\n",
       "      <td>4</td>\n",
       "      <td>0.0</td>\n",
       "      <td>62</td>\n",
       "      <td>JARDIM DA PENHA</td>\n",
       "      <td>0</td>\n",
       "      <td>1</td>\n",
       "      <td>0</td>\n",
       "      <td>0</td>\n",
       "      <td>0</td>\n",
       "      <td>0</td>\n",
       "      <td>1</td>\n",
       "      <td>0</td>\n",
       "    </tr>\n",
       "    <tr>\n",
       "      <td>1</td>\n",
       "      <td>5.589978e+14</td>\n",
       "      <td>1</td>\n",
       "      <td>2016-04-29</td>\n",
       "      <td>4</td>\n",
       "      <td>0.0</td>\n",
       "      <td>56</td>\n",
       "      <td>JARDIM DA PENHA</td>\n",
       "      <td>0</td>\n",
       "      <td>0</td>\n",
       "      <td>0</td>\n",
       "      <td>0</td>\n",
       "      <td>0</td>\n",
       "      <td>0</td>\n",
       "      <td>1</td>\n",
       "      <td>0</td>\n",
       "    </tr>\n",
       "    <tr>\n",
       "      <td>2</td>\n",
       "      <td>4.262962e+12</td>\n",
       "      <td>0</td>\n",
       "      <td>2016-04-29</td>\n",
       "      <td>4</td>\n",
       "      <td>0.0</td>\n",
       "      <td>62</td>\n",
       "      <td>MATA DA PRAIA</td>\n",
       "      <td>0</td>\n",
       "      <td>0</td>\n",
       "      <td>0</td>\n",
       "      <td>0</td>\n",
       "      <td>0</td>\n",
       "      <td>0</td>\n",
       "      <td>1</td>\n",
       "      <td>0</td>\n",
       "    </tr>\n",
       "  </tbody>\n",
       "</table>\n",
       "</div>"
      ],
      "text/plain": [
       "     patient_id  sex appointment_day  weekday  time_interval  age  \\\n",
       "0  2.987250e+13    0      2016-04-29        4            0.0   62   \n",
       "1  5.589978e+14    1      2016-04-29        4            0.0   56   \n",
       "2  4.262962e+12    0      2016-04-29        4            0.0   62   \n",
       "\n",
       "     neighbourhood  scholarship  hypertension  diabetes  alcoholism  handicap  \\\n",
       "0  JARDIM DA PENHA            0             1         0           0         0   \n",
       "1  JARDIM DA PENHA            0             0         0           0         0   \n",
       "2    MATA DA PRAIA            0             0         0           0         0   \n",
       "\n",
       "   sms_received  new_patient  no_show  \n",
       "0             0            1        0  \n",
       "1             0            1        0  \n",
       "2             0            1        0  "
      ]
     },
     "execution_count": 22,
     "metadata": {},
     "output_type": "execute_result"
    }
   ],
   "source": [
    "df.head(3)"
   ]
  },
  {
   "cell_type": "code",
   "execution_count": 23,
   "metadata": {},
   "outputs": [
    {
     "data": {
      "text/html": [
       "<div>\n",
       "<style scoped>\n",
       "    .dataframe tbody tr th:only-of-type {\n",
       "        vertical-align: middle;\n",
       "    }\n",
       "\n",
       "    .dataframe tbody tr th {\n",
       "        vertical-align: top;\n",
       "    }\n",
       "\n",
       "    .dataframe thead th {\n",
       "        text-align: right;\n",
       "    }\n",
       "</style>\n",
       "<table border=\"1\" class=\"dataframe\">\n",
       "  <thead>\n",
       "    <tr style=\"text-align: right;\">\n",
       "      <th></th>\n",
       "      <th>patient_id</th>\n",
       "      <th>sex</th>\n",
       "      <th>weekday</th>\n",
       "      <th>time_interval</th>\n",
       "      <th>age</th>\n",
       "      <th>scholarship</th>\n",
       "      <th>hypertension</th>\n",
       "      <th>diabetes</th>\n",
       "      <th>alcoholism</th>\n",
       "      <th>handicap</th>\n",
       "      <th>sms_received</th>\n",
       "      <th>new_patient</th>\n",
       "      <th>no_show</th>\n",
       "    </tr>\n",
       "  </thead>\n",
       "  <tbody>\n",
       "    <tr>\n",
       "      <td>count</td>\n",
       "      <td>1.076700e+05</td>\n",
       "      <td>107670.000000</td>\n",
       "      <td>107670.000000</td>\n",
       "      <td>107670.000000</td>\n",
       "      <td>107670.000000</td>\n",
       "      <td>107670.000000</td>\n",
       "      <td>107670.000000</td>\n",
       "      <td>107670.000000</td>\n",
       "      <td>107670.000000</td>\n",
       "      <td>107670.000000</td>\n",
       "      <td>107670.000000</td>\n",
       "      <td>107670.000000</td>\n",
       "      <td>107670.000000</td>\n",
       "    </tr>\n",
       "    <tr>\n",
       "      <td>mean</td>\n",
       "      <td>1.476342e+14</td>\n",
       "      <td>0.350720</td>\n",
       "      <td>1.858447</td>\n",
       "      <td>10.135330</td>\n",
       "      <td>35.810746</td>\n",
       "      <td>0.100799</td>\n",
       "      <td>0.185762</td>\n",
       "      <td>0.068329</td>\n",
       "      <td>0.031011</td>\n",
       "      <td>0.018585</td>\n",
       "      <td>0.322764</td>\n",
       "      <td>0.562933</td>\n",
       "      <td>0.202898</td>\n",
       "    </tr>\n",
       "    <tr>\n",
       "      <td>std</td>\n",
       "      <td>2.562386e+14</td>\n",
       "      <td>0.477198</td>\n",
       "      <td>1.371909</td>\n",
       "      <td>15.049817</td>\n",
       "      <td>22.009345</td>\n",
       "      <td>0.301063</td>\n",
       "      <td>0.388916</td>\n",
       "      <td>0.252311</td>\n",
       "      <td>0.173349</td>\n",
       "      <td>0.135053</td>\n",
       "      <td>0.467535</td>\n",
       "      <td>0.496026</td>\n",
       "      <td>0.402159</td>\n",
       "    </tr>\n",
       "    <tr>\n",
       "      <td>min</td>\n",
       "      <td>3.921784e+04</td>\n",
       "      <td>0.000000</td>\n",
       "      <td>0.000000</td>\n",
       "      <td>0.000000</td>\n",
       "      <td>0.000000</td>\n",
       "      <td>0.000000</td>\n",
       "      <td>0.000000</td>\n",
       "      <td>0.000000</td>\n",
       "      <td>0.000000</td>\n",
       "      <td>0.000000</td>\n",
       "      <td>0.000000</td>\n",
       "      <td>0.000000</td>\n",
       "      <td>0.000000</td>\n",
       "    </tr>\n",
       "    <tr>\n",
       "      <td>25%</td>\n",
       "      <td>4.158482e+12</td>\n",
       "      <td>0.000000</td>\n",
       "      <td>1.000000</td>\n",
       "      <td>0.000000</td>\n",
       "      <td>17.000000</td>\n",
       "      <td>0.000000</td>\n",
       "      <td>0.000000</td>\n",
       "      <td>0.000000</td>\n",
       "      <td>0.000000</td>\n",
       "      <td>0.000000</td>\n",
       "      <td>0.000000</td>\n",
       "      <td>0.000000</td>\n",
       "      <td>0.000000</td>\n",
       "    </tr>\n",
       "    <tr>\n",
       "      <td>50%</td>\n",
       "      <td>3.165420e+13</td>\n",
       "      <td>0.000000</td>\n",
       "      <td>2.000000</td>\n",
       "      <td>4.000000</td>\n",
       "      <td>36.000000</td>\n",
       "      <td>0.000000</td>\n",
       "      <td>0.000000</td>\n",
       "      <td>0.000000</td>\n",
       "      <td>0.000000</td>\n",
       "      <td>0.000000</td>\n",
       "      <td>0.000000</td>\n",
       "      <td>1.000000</td>\n",
       "      <td>0.000000</td>\n",
       "    </tr>\n",
       "    <tr>\n",
       "      <td>75%</td>\n",
       "      <td>9.442195e+13</td>\n",
       "      <td>1.000000</td>\n",
       "      <td>3.000000</td>\n",
       "      <td>15.000000</td>\n",
       "      <td>54.000000</td>\n",
       "      <td>0.000000</td>\n",
       "      <td>0.000000</td>\n",
       "      <td>0.000000</td>\n",
       "      <td>0.000000</td>\n",
       "      <td>0.000000</td>\n",
       "      <td>1.000000</td>\n",
       "      <td>1.000000</td>\n",
       "      <td>0.000000</td>\n",
       "    </tr>\n",
       "    <tr>\n",
       "      <td>max</td>\n",
       "      <td>9.999816e+14</td>\n",
       "      <td>1.000000</td>\n",
       "      <td>5.000000</td>\n",
       "      <td>179.000000</td>\n",
       "      <td>80.000000</td>\n",
       "      <td>1.000000</td>\n",
       "      <td>1.000000</td>\n",
       "      <td>1.000000</td>\n",
       "      <td>1.000000</td>\n",
       "      <td>1.000000</td>\n",
       "      <td>1.000000</td>\n",
       "      <td>1.000000</td>\n",
       "      <td>1.000000</td>\n",
       "    </tr>\n",
       "  </tbody>\n",
       "</table>\n",
       "</div>"
      ],
      "text/plain": [
       "         patient_id            sex        weekday  time_interval  \\\n",
       "count  1.076700e+05  107670.000000  107670.000000  107670.000000   \n",
       "mean   1.476342e+14       0.350720       1.858447      10.135330   \n",
       "std    2.562386e+14       0.477198       1.371909      15.049817   \n",
       "min    3.921784e+04       0.000000       0.000000       0.000000   \n",
       "25%    4.158482e+12       0.000000       1.000000       0.000000   \n",
       "50%    3.165420e+13       0.000000       2.000000       4.000000   \n",
       "75%    9.442195e+13       1.000000       3.000000      15.000000   \n",
       "max    9.999816e+14       1.000000       5.000000     179.000000   \n",
       "\n",
       "                 age    scholarship   hypertension       diabetes  \\\n",
       "count  107670.000000  107670.000000  107670.000000  107670.000000   \n",
       "mean       35.810746       0.100799       0.185762       0.068329   \n",
       "std        22.009345       0.301063       0.388916       0.252311   \n",
       "min         0.000000       0.000000       0.000000       0.000000   \n",
       "25%        17.000000       0.000000       0.000000       0.000000   \n",
       "50%        36.000000       0.000000       0.000000       0.000000   \n",
       "75%        54.000000       0.000000       0.000000       0.000000   \n",
       "max        80.000000       1.000000       1.000000       1.000000   \n",
       "\n",
       "          alcoholism       handicap   sms_received    new_patient  \\\n",
       "count  107670.000000  107670.000000  107670.000000  107670.000000   \n",
       "mean        0.031011       0.018585       0.322764       0.562933   \n",
       "std         0.173349       0.135053       0.467535       0.496026   \n",
       "min         0.000000       0.000000       0.000000       0.000000   \n",
       "25%         0.000000       0.000000       0.000000       0.000000   \n",
       "50%         0.000000       0.000000       0.000000       1.000000   \n",
       "75%         0.000000       0.000000       1.000000       1.000000   \n",
       "max         1.000000       1.000000       1.000000       1.000000   \n",
       "\n",
       "             no_show  \n",
       "count  107670.000000  \n",
       "mean        0.202898  \n",
       "std         0.402159  \n",
       "min         0.000000  \n",
       "25%         0.000000  \n",
       "50%         0.000000  \n",
       "75%         0.000000  \n",
       "max         1.000000  "
      ]
     },
     "execution_count": 23,
     "metadata": {},
     "output_type": "execute_result"
    }
   ],
   "source": [
    "df.describe()"
   ]
  },
  {
   "cell_type": "markdown",
   "metadata": {},
   "source": [
    "Now the dataset is clean and ready to be analyzed."
   ]
  },
  {
   "cell_type": "markdown",
   "metadata": {},
   "source": [
    "<a id='eda'></a>\n",
    "## Exploratory Data Analysis\n",
    "\n",
    "### 1. What is the distribution of no-show by age and sex?"
   ]
  },
  {
   "cell_type": "code",
   "execution_count": 24,
   "metadata": {
    "scrolled": false
   },
   "outputs": [
    {
     "name": "stdout",
     "output_type": "stream",
     "text": [
      "Proportion of no-show in the whole dataset: 0.20289774310392866\n"
     ]
    }
   ],
   "source": [
    "print('Proportion of no-show in the whole dataset: {}'.format(len(df.query('no_show == 1')) / len(df.no_show)))"
   ]
  },
  {
   "cell_type": "code",
   "execution_count": 25,
   "metadata": {},
   "outputs": [],
   "source": [
    "# Defining a function to facilitate plotting.\n",
    "\n",
    "def plot (data, suptitle, ylabel, xlabel, xticklabels, kind='line', rotation=0):\n",
    "    ax = data.plot(legend=False, figsize=(8, 5), kind=kind);\n",
    "    plt.subplots_adjust(top=.9)\n",
    "    plt.suptitle(suptitle, fontsize=16);\n",
    "    ax.set_ylabel(ylabel, size=13)\n",
    "    ax.set_xlabel(xlabel, size=13)\n",
    "    ax.set_xticklabels(xticklabels, size=13, rotation=rotation)\n",
    "    ax.plot();"
   ]
  },
  {
   "cell_type": "code",
   "execution_count": 26,
   "metadata": {
    "scrolled": false
   },
   "outputs": [
    {
     "data": {
      "image/png": "[encoded data removed]",
      "text/plain": [
       "<Figure size 576x360 with 1 Axes>"
      ]
     },
     "metadata": {
      "needs_background": "light"
     },
     "output_type": "display_data"
    }
   ],
   "source": [
    "sex = df.sex.value_counts()\n",
    "\n",
    "plot(sex, suptitle='Count of patients in the dataset by sex', ylabel='Count', xlabel='Sex', kind='bar',\n",
    "     xticklabels=['Women', 'Men'])"
   ]
  },
  {
   "cell_type": "markdown",
   "metadata": {},
   "source": [
    "The dataset is comprised roughtly of 1/3 males and 2/3 females. The proportion of no-show in total is 20,3%."
   ]
  },
  {
   "cell_type": "code",
   "execution_count": 27,
   "metadata": {
    "scrolled": false
   },
   "outputs": [
    {
     "data": {
      "image/png": "[encoded data removed]",
      "text/plain": [
       "<Figure size 576x360 with 1 Axes>"
      ]
     },
     "metadata": {
      "needs_background": "light"
     },
     "output_type": "display_data"
    }
   ],
   "source": [
    "# Grouping the data by age, containing the corresponding mean value for no-show, \n",
    "# and plotting its rolling mean with a 3 year window.\n",
    "\n",
    "age = df.groupby(['age']).agg({'no_show': 'mean'}).rolling(window=3).mean()\n",
    "\n",
    "plot(age, suptitle='Age Distribution of No-show', ylabel='No-Show', xlabel='Age',\n",
    "     xticklabels=np.arange(0, 90, 10).tolist())"
   ]
  },
  {
   "cell_type": "code",
   "execution_count": 28,
   "metadata": {},
   "outputs": [
    {
     "name": "stdout",
     "output_type": "stream",
     "text": [
      "Percentage of no-show for patients receiving Bolsa Família demanded to follow-up with vaccines: 0.20098441345365053\n",
      "\n",
      "Percentage of no-show for remaning children receiving Bolsa Família: 0.2696690179055887 \n",
      "Difference: 25.469964990929995 %\n",
      "\n",
      "Percentage of no-show for adults receiving Bolsa Família: 0.23565652676164806 \n",
      "Difference: 14.712986643932936 %\n"
     ]
    }
   ],
   "source": [
    "# Calculating proportion of no-show for children of age up to and including 7 years old\n",
    "# for a comparison with the remaining patients. Children in that group must be vaccinated. See:\n",
    "# [https://en.wikipedia.org/wiki/Bolsa_Fam%C3%ADlia] and [https://extranet.who.int/nutrition/gina/en/node/23307]\n",
    "\n",
    "vaccine = df.query('age <= 7 & scholarship == 1')\n",
    "remaining_children = df.query('age > 7 & age < 18 & scholarship == 1')\n",
    "adults = df.query('age >= 18 & scholarship == 1')\n",
    "\n",
    "print('Percentage of no-show for patients receiving Bolsa Família demanded to follow-up with vaccines: {}'\n",
    "      .format(len(vaccine.query('no_show == 1')) / len(vaccine)))\n",
    "      \n",
    "print('\\nPercentage of no-show for remaning children receiving Bolsa Família: {} \\nDifference: {} %'\n",
    "      .format(len(remaining_children.query('no_show == 1')) / len(remaining_children),\n",
    "              abs(((len(vaccine.query('no_show == 1')) / len(vaccine)) * 100 \n",
    "                / (len(remaining_children.query('no_show == 1')) / len(remaining_children))) -100)))\n",
    "\n",
    "print('\\nPercentage of no-show for adults receiving Bolsa Família: {} \\nDifference: {} %'\n",
    "      .format(len(adults.query('no_show == 1')) / len(adults),\n",
    "              abs(((len(vaccine.query('no_show == 1')) / len(vaccine)) * 100 \n",
    "                / (len(adults.query('no_show == 1')) / len(adults))) -100 )))"
   ]
  },
  {
   "cell_type": "markdown",
   "metadata": {},
   "source": [
    "The age distribution of no-show is skewed to the right. The mean value reaches its peak short before the age of 20, when it starts to lower steadily until around the age of 65, reaching its minimum. \n",
    "\n",
    "One particular aspect to analyze regarding the age is that families receiving Bolsa Família with children of 7 years of age or younger need to properly follow-up with their children's immunization in order to remain eligible to the program. Patients in this group are 25% less likely to miss an appointment than the remaining children that receive Bolsa Família, and 14,7% less likely than adults receiving Bolsa Família."
   ]
  },
  {
   "cell_type": "code",
   "execution_count": 29,
   "metadata": {},
   "outputs": [
    {
     "data": {
      "image/png": "[encoded data removed]",
      "text/plain": [
       "<Figure size 360x360 with 1 Axes>"
      ]
     },
     "metadata": {
      "needs_background": "light"
     },
     "output_type": "display_data"
    }
   ],
   "source": [
    "# Sex and No-show\n",
    "ax = sns.catplot(x=\"sex\", y=\"no_show\", kind=\"point\", data=df);\n",
    "(ax.set_axis_labels(\"\", \"No-show\")\n",
    "    .set_yticklabels(size=12)\n",
    "    .set_xticklabels(['Women', 'Men'], size=13)\n",
    "    .set(ylim=(0.196, 0.208))\n",
    "    .despine(left=True))\n",
    "\n",
    "plt.subplots_adjust(top=.9)\n",
    "plt.suptitle('Sex vs. No-show', fontsize=16);"
   ]
  },
  {
   "cell_type": "markdown",
   "metadata": {},
   "source": [
    "The [estimate of central tendency](https://seaborn.pydata.org/generated/seaborn.pointplot.html#seaborn.pointplot) for no-show by sex shows that men are slightly less likely to miss an appointment than women, but the difference is very small."
   ]
  },
  {
   "cell_type": "code",
   "execution_count": 30,
   "metadata": {},
   "outputs": [
    {
     "data": {
      "image/png": "[encoded data removed]",
      "text/plain": [
       "<Figure size 432x288 with 1 Axes>"
      ]
     },
     "metadata": {
      "needs_background": "light"
     },
     "output_type": "display_data"
    }
   ],
   "source": [
    "ax = sns.violinplot(x=\"no_show\", y=\"age\", hue=\"sex\",\n",
    "               split=True, inner=\"quart\", data=df);\n",
    "\n",
    "plt.subplots_adjust(top=.92)\n",
    "plt.suptitle('Age Distribution of No-Show by Sex', fontsize=16);\n",
    "line_up, = plt.plot(df.sex[0], label='Women', linewidth=4)\n",
    "line_down, = plt.plot(df.sex[1], label='Men', linewidth=4)\n",
    "plt.legend(handles=[line_up, line_down], bbox_to_anchor=(1.25, 1.02), loc='upper right')\n",
    "ax.set_xticklabels(['0', '1'])\n",
    "ax.set_xlabel('No-show', size=14)\n",
    "ax.set_ylabel('Age', size=14);"
   ]
  },
  {
   "cell_type": "markdown",
   "metadata": {},
   "source": [
    "The age distribution of sex plotted against no-show reveals that the median age for men in this dataset is smaller than for women. While there is a slight variation in the age distribution of men when segregated by no-show - younger men tend to miss appointments more often than older men -, the distribution for women displays a more significant variation. Younger women tend more than older women to miss appointments."
   ]
  },
  {
   "cell_type": "markdown",
   "metadata": {},
   "source": [
    "### 2. How do different health conditions affect no-show? Does sex or participation in Bolsa Família matter?"
   ]
  },
  {
   "cell_type": "code",
   "execution_count": 31,
   "metadata": {
    "scrolled": false
   },
   "outputs": [],
   "source": [
    "# Creating a function to plot various health conditions against no-show\n",
    "# grouped by sex and split by participation in Bolsa Família\n",
    "\n",
    "def catplot(x, xlabel, suptitle, ylim=(0,.3)):\n",
    "    fig = plt.figure();\n",
    "    ax = sns.catplot(x=x, y=\"no_show\", hue=\"sex\", col='scholarship', kind=\"bar\", \n",
    "                 data=df, legend=False).set(xlabel=xlabel, ylabel='No-show', ylim=ylim).despine(left=True);\n",
    "    plt.subplots_adjust(top=.85)\n",
    "    plt.suptitle(suptitle, fontsize=16)\n",
    "    line_up, = plt.plot(df.sex[0], label='Women', linewidth=4)\n",
    "    line_down, = plt.plot(df.sex[1], label='Men', linewidth=4)\n",
    "    plt.legend(handles=[line_up, line_down], bbox_to_anchor=(1.26, 1.015), loc='upper right')\n",
    "    ax.set_xticklabels(['No', 'Yes'])\n",
    "    plt.show();"
   ]
  },
  {
   "cell_type": "code",
   "execution_count": 32,
   "metadata": {},
   "outputs": [
    {
     "data": {
      "text/plain": [
       "<Figure size 432x288 with 0 Axes>"
      ]
     },
     "metadata": {},
     "output_type": "display_data"
    },
    {
     "data": {
      "image/png": "[encoded data removed]",
      "text/plain": [
       "<Figure size 720x360 with 2 Axes>"
      ]
     },
     "metadata": {
      "needs_background": "light"
     },
     "output_type": "display_data"
    }
   ],
   "source": [
    "catplot('alcoholism', 'Alcoholism', 'Alcoholism Vs. No-show by Bolsa Família and Sex', ylim=(0,.35))"
   ]
  },
  {
   "cell_type": "markdown",
   "metadata": {},
   "source": [
    "The plot shows that alcoholic women have a higher tendency of missing an appointment than non-alcoholic women in both scenarions (not receiving and receiving Bolsa Família), while the opposite is true for men. Alcoholic men miss less appointments than non-alcoholic men in both scenarios. For both sexes, however, those who receive Bolsa Família miss more appointments than those who do not."
   ]
  },
  {
   "cell_type": "code",
   "execution_count": 33,
   "metadata": {},
   "outputs": [
    {
     "data": {
      "text/plain": [
       "<Figure size 432x288 with 0 Axes>"
      ]
     },
     "metadata": {},
     "output_type": "display_data"
    },
    {
     "data": {
      "image/png": "[encoded data removed]",
      "text/plain": [
       "<Figure size 720x360 with 2 Axes>"
      ]
     },
     "metadata": {
      "needs_background": "light"
     },
     "output_type": "display_data"
    }
   ],
   "source": [
    "catplot('diabetes', 'Diabetes', 'Diabetes Vs. No-show by Bolsa Família and Sex', ylim=(0,.32))"
   ]
  },
  {
   "cell_type": "markdown",
   "metadata": {},
   "source": [
    "People who have diabetes miss less appointments in both scenarios, but tend to miss more when receiving Bolsa Família (although the difference is smaller for men, following the same tendency of alcoholism). In fact, like in the previous plot, a higher tendency for missing appointments can be observed for those who receive Bolsa Família in all cases. "
   ]
  },
  {
   "cell_type": "code",
   "execution_count": 34,
   "metadata": {},
   "outputs": [
    {
     "data": {
      "text/plain": [
       "<Figure size 432x288 with 0 Axes>"
      ]
     },
     "metadata": {},
     "output_type": "display_data"
    },
    {
     "data": {
      "image/png": "[encoded data removed]",
      "text/plain": [
       "<Figure size 720x360 with 2 Axes>"
      ]
     },
     "metadata": {
      "needs_background": "light"
     },
     "output_type": "display_data"
    }
   ],
   "source": [
    "catplot('hypertension', 'Hypertension', 'Hypertension Vs. No-show by Bolsa Família and Sex')"
   ]
  },
  {
   "cell_type": "markdown",
   "metadata": {},
   "source": [
    "Hypertension presents a similar behavior to diabetes, most likely because of a high correlation between them. This is explored at the end of this section."
   ]
  },
  {
   "cell_type": "code",
   "execution_count": 35,
   "metadata": {},
   "outputs": [
    {
     "data": {
      "text/plain": [
       "<Figure size 432x288 with 0 Axes>"
      ]
     },
     "metadata": {},
     "output_type": "display_data"
    },
    {
     "data": {
      "image/png": "[encoded data removed]",
      "text/plain": [
       "<Figure size 720x360 with 2 Axes>"
      ]
     },
     "metadata": {
      "needs_background": "light"
     },
     "output_type": "display_data"
    }
   ],
   "source": [
    "catplot('handicap', 'Handicap', 'Handicap Vs. No-show by Bolsa Família and Sex')"
   ]
  },
  {
   "cell_type": "markdown",
   "metadata": {},
   "source": [
    "Among those not receiving Bolsa Família, having one or more handicaps does not lower much the tendency of no-show for both sexes (although the variation is higher for men). However, while the tendency of no-show for women with a handicap remains roughly the same when receiving Bolsa Família, men with a handicap have a much lower tendency when receiving it. Nonetheless, since the sample of these cases is rather small, we can also observe long error bars on the plot."
   ]
  },
  {
   "cell_type": "markdown",
   "metadata": {},
   "source": [
    "### 3. What are the correlation coeficients of the independent variables with no-show?"
   ]
  },
  {
   "cell_type": "code",
   "execution_count": 36,
   "metadata": {},
   "outputs": [],
   "source": [
    "# Creating a heatmap to visualize the correlation coeficients among the variables using the corr() function.\n",
    "\n",
    "def heat_map(df, title):\n",
    "    corr = df.corr()\n",
    "    _ , ax = plt.subplots(figsize=(10, 8))\n",
    "    ax.set_title(title, size=16)\n",
    "    cmap = sns.diverging_palette(240, 10, as_cmap = True)\n",
    "    _ = sns.heatmap(corr, cmap=cmap, ax=ax, cbar_kws={'shrink': .8}, annot=True, \n",
    "                    annot_kws={'fontsize': 10})\n",
    "    ax.set_ylim(12.0, 0)"
   ]
  },
  {
   "cell_type": "code",
   "execution_count": 37,
   "metadata": {
    "scrolled": false
   },
   "outputs": [
    {
     "data": {
      "image/png": "[encoded data removed]",
      "text/plain": [
       "<Figure size 720x576 with 2 Axes>"
      ]
     },
     "metadata": {
      "needs_background": "light"
     },
     "output_type": "display_data"
    }
   ],
   "source": [
    "heat_map(df[['sex', 'weekday', 'time_interval',\n",
    "       'age', 'scholarship', 'hypertension', 'diabetes',\n",
    "       'alcoholism', 'handicap', 'sms_received', 'new_patient', 'no_show']], 'Correlation heat map')"
   ]
  },
  {
   "cell_type": "markdown",
   "metadata": {},
   "source": [
    "The heatmap gives us an overview of the correlations among the numerical columns in the data.\n",
    "\n",
    "Regarding age, there is a very weak negative linear relationship with no-show. The same is true for all health conditions in the dataset.\n",
    "\n",
    "There is a weak positive linear relationship between no-show and time interval, which is the single variable that independently has the highest absolute correlation coeficient with no-show. The correlation coeficient observed between no-show and SMS received is most likely due to the fact that there is a moderate positive correlation between receiving an SMS and the time interval."
   ]
  },
  {
   "cell_type": "markdown",
   "metadata": {},
   "source": [
    "<a id='conclusions'></a>\n",
    "## Conclusions\n",
    "\n",
    "A rather very weak positive correlation between receiving Bolsa Família and no-show can be observed in the data. The highest correlation observed regarding no-show is with the time interval between the appointment and the scheduling. \n",
    "\n",
    "The tendency for no-show is higher for patients receiving Bolsa Família in all cases except for people with one or more handicaps, alcoholic men, or men with hypertension. In general, the introduction of health-related variables lowers the tendency for no-show. Patients until and including the age of 7 who receive Bolsa Família and therefore need to follow-up with immunization have a lower tendency of no-show.\n",
    "\n",
    "Alcoholism lowers the tendency of no-show for men, while the opposite is true for women. In general, alcoholics receiving Bolsa Família have a higher tendency to miss appointments than alcoholics not receiving Bolsa Família. Diabetes and hypertension associate with a lower tendency of no-show for both sexes and both groups regarding Bolsa Família. Patients with a handicap receiving Bolsa Família have a lower tendency to miss an appointment than those with handicap not receiving it, but patients without a handicap are more likely to miss an appointment when receiving Bolsa Família.\n",
    "\n",
    "Alcoholic women below the age of 40 who receive Bolsa Família and are otherwise healthy can be considered part of the most susceptible group to missing appointments. Alcoholic men with health conditions such as diabetes and hypertension, not receiving Bolsa Família, and above the age of 40 are part of the least susceptible group to missing appointments.\n",
    "\n",
    "As to the limitations of this analysis, other correlations and tendencies could have received more focus, perhaps making use of feature engineering based on area expertise. In addition to that, inferencial statistics could boost the analysis and not only produce a more detailed view on the data, but also determine causality."
   ]
  }
 ],
 "metadata": {
  "kernelspec": {
   "display_name": "Python 3",
   "language": "python",
   "name": "python3"
  },
  "language_info": {
   "codemirror_mode": {
    "name": "ipython",
    "version": 3
   },
   "file_extension": ".py",
   "mimetype": "text/x-python",
   "name": "python",
   "nbconvert_exporter": "python",
   "pygments_lexer": "ipython3",
   "version": "3.7.4"
  }
 },
 "nbformat": 4,
 "nbformat_minor": 2
}
